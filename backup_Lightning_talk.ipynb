{
 "cells": [
  {
   "cell_type": "markdown",
   "id": "51b786b0-7ac2-4029-801c-204a7948b1c7",
   "metadata": {},
   "source": [
    "# Polars' craziest* feature\n",
    "\n",
    "*debatable\n",
    "\n",
    "## With: Marco Gorelli (Quansight Labs, volunteer maintainer Polars)"
   ]
  },
  {
   "cell_type": "code",
   "execution_count": 1,
   "id": "eba1db73-da4a-4002-8013-7a334d508879",
   "metadata": {},
   "outputs": [],
   "source": [
    "import polars as pl"
   ]
  },
  {
   "cell_type": "markdown",
   "id": "7b76ff48-4dde-469b-955b-1e4aadfd8353",
   "metadata": {},
   "source": [
    "## Wait, what's Polars?\n",
    "\n",
    "- DataFrame library\n",
    "- Written in Rust, with Python bindings\n",
    "- Blazingly fast!\n",
    "- Syntax more like PySpark than pandas"
   ]
  },
  {
   "cell_type": "markdown",
   "id": "22006418-5959-475c-83cb-4243f60a68ba",
   "metadata": {},
   "source": [
    "## \"I've heard it's super-fast\"\n",
    "\n",
    "![](duckdb_benchmark.png)\n",
    "\n",
    "![](tpch.png)"
   ]
  },
  {
   "cell_type": "markdown",
   "id": "e727968d-9b7c-4e5a-98d1-73a06a9dc5eb",
   "metadata": {},
   "source": [
    "## Right then, let's try it!"
   ]
  },
  {
   "cell_type": "code",
   "execution_count": 2,
   "id": "1d64cc47-6ab9-4763-b4d4-40c5a109b61f",
   "metadata": {},
   "outputs": [
    {
     "data": {
      "text/html": [
       "<div><style>\n",
       ".dataframe > thead > tr > th,\n",
       ".dataframe > tbody > tr > td {\n",
       "  text-align: right;\n",
       "  white-space: pre-wrap;\n",
       "}\n",
       "</style>\n",
       "<small>shape: (5, 1)</small><table border=\"1\" class=\"dataframe\"><thead><tr><th>x</th></tr><tr><td>f64</td></tr></thead><tbody><tr><td>-0.923359</td></tr><tr><td>-0.860712</td></tr><tr><td>1.012734</td></tr><tr><td>0.552542</td></tr><tr><td>-0.222264</td></tr></tbody></table></div>"
      ],
      "text/plain": [
       "shape: (5, 1)\n",
       "┌───────────┐\n",
       "│ x         │\n",
       "│ ---       │\n",
       "│ f64       │\n",
       "╞═══════════╡\n",
       "│ -0.923359 │\n",
       "│ -0.860712 │\n",
       "│ 1.012734  │\n",
       "│ 0.552542  │\n",
       "│ -0.222264 │\n",
       "└───────────┘"
      ]
     },
     "execution_count": 2,
     "metadata": {},
     "output_type": "execute_result"
    }
   ],
   "source": [
    "import numpy as np\n",
    "df = pl.DataFrame({'x': np.random.randn(50_000_000)})\n",
    "df.head()"
   ]
  },
  {
   "cell_type": "code",
   "execution_count": 3,
   "id": "87f3d74f-55eb-4209-b89b-b3ecbd254516",
   "metadata": {},
   "outputs": [
    {
     "name": "stderr",
     "output_type": "stream",
     "text": [
      "<timed exec>:2: PolarsInefficientMapWarning: \n",
      "Expr.map_elements is significantly slower than the native expressions API.\n",
      "Only use if you absolutely CANNOT implement your logic otherwise.\n",
      "In this case, you can replace your `map_elements` with the following:\n",
      "  - pl.col(\"x\").map_elements(lambda x: ...)\n",
      "  + pl.col(\"x\") ** 2\n",
      "\n",
      "<timed exec>:3: PolarsInefficientMapWarning: \n",
      "Expr.map_elements is significantly slower than the native expressions API.\n",
      "Only use if you absolutely CANNOT implement your logic otherwise.\n",
      "In this case, you can replace your `map_elements` with the following:\n",
      "  - pl.col(\"x\").map_elements(lambda x: ...)\n",
      "  + pl.col(\"x\") ** 3\n",
      "\n"
     ]
    },
    {
     "name": "stdout",
     "output_type": "stream",
     "text": [
      "CPU times: user 18.1 s, sys: 7.31 s, total: 25.4 s\n",
      "Wall time: 25.4 s\n"
     ]
    },
    {
     "data": {
      "text/html": [
       "<div><style>\n",
       ".dataframe > thead > tr > th,\n",
       ".dataframe > tbody > tr > td {\n",
       "  text-align: right;\n",
       "  white-space: pre-wrap;\n",
       "}\n",
       "</style>\n",
       "<small>shape: (5, 3)</small><table border=\"1\" class=\"dataframe\"><thead><tr><th>x</th><th>x_squared</th><th>x_cubed</th></tr><tr><td>f64</td><td>f64</td><td>f64</td></tr></thead><tbody><tr><td>-0.923359</td><td>0.852592</td><td>-0.787248</td></tr><tr><td>-0.860712</td><td>0.740824</td><td>-0.637636</td></tr><tr><td>1.012734</td><td>1.025631</td><td>1.038691</td></tr><tr><td>0.552542</td><td>0.305302</td><td>0.168692</td></tr><tr><td>-0.222264</td><td>0.049401</td><td>-0.01098</td></tr></tbody></table></div>"
      ],
      "text/plain": [
       "shape: (5, 3)\n",
       "┌───────────┬───────────┬───────────┐\n",
       "│ x         ┆ x_squared ┆ x_cubed   │\n",
       "│ ---       ┆ ---       ┆ ---       │\n",
       "│ f64       ┆ f64       ┆ f64       │\n",
       "╞═══════════╪═══════════╪═══════════╡\n",
       "│ -0.923359 ┆ 0.852592  ┆ -0.787248 │\n",
       "│ -0.860712 ┆ 0.740824  ┆ -0.637636 │\n",
       "│ 1.012734  ┆ 1.025631  ┆ 1.038691  │\n",
       "│ 0.552542  ┆ 0.305302  ┆ 0.168692  │\n",
       "│ -0.222264 ┆ 0.049401  ┆ -0.01098  │\n",
       "└───────────┴───────────┴───────────┘"
      ]
     },
     "execution_count": 3,
     "metadata": {},
     "output_type": "execute_result"
    }
   ],
   "source": [
    "%%time\n",
    "result = df.with_columns(\n",
    "    x_squared = pl.col.x.map_elements(lambda x: x**2),\n",
    "    x_cubed = pl.col.x.map_elements(lambda x: x**3),\n",
    ")\n",
    "result.head()"
   ]
  },
  {
   "cell_type": "code",
   "execution_count": 4,
   "id": "ab039b08-b60d-4960-aad3-4a39b2adf2e4",
   "metadata": {},
   "outputs": [
    {
     "name": "stdout",
     "output_type": "stream",
     "text": [
      "CPU times: user 296 ms, sys: 247 ms, total: 543 ms\n",
      "Wall time: 992 ms\n"
     ]
    },
    {
     "data": {
      "text/html": [
       "<div><style>\n",
       ".dataframe > thead > tr > th,\n",
       ".dataframe > tbody > tr > td {\n",
       "  text-align: right;\n",
       "  white-space: pre-wrap;\n",
       "}\n",
       "</style>\n",
       "<small>shape: (5, 3)</small><table border=\"1\" class=\"dataframe\"><thead><tr><th>x</th><th>x_squared</th><th>x_cubed</th></tr><tr><td>f64</td><td>f64</td><td>f64</td></tr></thead><tbody><tr><td>-0.923359</td><td>0.852592</td><td>-0.787248</td></tr><tr><td>-0.860712</td><td>0.740824</td><td>-0.637636</td></tr><tr><td>1.012734</td><td>1.025631</td><td>1.038691</td></tr><tr><td>0.552542</td><td>0.305302</td><td>0.168692</td></tr><tr><td>-0.222264</td><td>0.049401</td><td>-0.01098</td></tr></tbody></table></div>"
      ],
      "text/plain": [
       "shape: (5, 3)\n",
       "┌───────────┬───────────┬───────────┐\n",
       "│ x         ┆ x_squared ┆ x_cubed   │\n",
       "│ ---       ┆ ---       ┆ ---       │\n",
       "│ f64       ┆ f64       ┆ f64       │\n",
       "╞═══════════╪═══════════╪═══════════╡\n",
       "│ -0.923359 ┆ 0.852592  ┆ -0.787248 │\n",
       "│ -0.860712 ┆ 0.740824  ┆ -0.637636 │\n",
       "│ 1.012734  ┆ 1.025631  ┆ 1.038691  │\n",
       "│ 0.552542  ┆ 0.305302  ┆ 0.168692  │\n",
       "│ -0.222264 ┆ 0.049401  ┆ -0.01098  │\n",
       "└───────────┴───────────┴───────────┘"
      ]
     },
     "execution_count": 4,
     "metadata": {},
     "output_type": "execute_result"
    }
   ],
   "source": [
    "%%time\n",
    "result = df.with_columns(\n",
    "    x_squared = pl.col(\"x\") ** 2,\n",
    "    x_cubed = pl.col(\"x\") ** 3,\n",
    ")\n",
    "result.head()"
   ]
  },
  {
   "cell_type": "markdown",
   "id": "4e4c9ea9-1c78-4b45-8c95-c975a69ec3dc",
   "metadata": {},
   "source": [
    "We got a ????x performance increase for free!"
   ]
  },
  {
   "cell_type": "markdown",
   "id": "3a82a130-d78e-4ddf-b86f-891847b2de9b",
   "metadata": {},
   "source": [
    "## How does this work?"
   ]
  },
  {
   "cell_type": "markdown",
   "id": "7b09b79b-59c5-4465-a06d-4955c5af123d",
   "metadata": {},
   "source": [
    "### 1. disassemble function into bytecode:"
   ]
  },
  {
   "cell_type": "code",
   "execution_count": 5,
   "id": "5312795e-7216-4dec-9f57-a77ff8dc5289",
   "metadata": {},
   "outputs": [
    {
     "data": {
      "text/plain": [
       "[Instruction(opname='LOAD_FAST', opcode=124, arg=0, argval='x', argrepr='x', offset=0, starts_line=3, is_jump_target=False),\n",
       " Instruction(opname='LOAD_CONST', opcode=100, arg=1, argval=2, argrepr='2', offset=2, starts_line=None, is_jump_target=False),\n",
       " Instruction(opname='BINARY_POWER', opcode=19, arg=None, argval=None, argrepr='', offset=4, starts_line=None, is_jump_target=False),\n",
       " Instruction(opname='RETURN_VALUE', opcode=83, arg=None, argval=None, argrepr='', offset=6, starts_line=None, is_jump_target=False)]"
      ]
     },
     "execution_count": 5,
     "metadata": {},
     "output_type": "execute_result"
    }
   ],
   "source": [
    "import dis\n",
    "\n",
    "list(dis.get_instructions(lambda x: x**2))"
   ]
  },
  {
   "cell_type": "markdown",
   "id": "0dc7458f-2463-4b2a-811a-d1081e7e9b0f",
   "metadata": {},
   "source": [
    "### 2. parse the bytecode to figure out what the user wrote\n",
    "\n",
    "`x`, `2`, `\"binary power\"` ==> `x**2`\n",
    "\n",
    "### 3. educate the user on how they could have written their code more efficiently!\n",
    "\n",
    "```diff\n",
    "- pl.col(\"x\").map_elements(lambda x: ...)\n",
    "+ pl.col(\"x\") ** 2\n",
    "```"
   ]
  },
  {
   "cell_type": "markdown",
   "id": "47f36dbb-960b-4ad8-b9ab-0a923b2247b7",
   "metadata": {},
   "source": [
    "## But...why? Why not just do it the fast way for users?"
   ]
  },
  {
   "cell_type": "markdown",
   "id": "64959eea-03ca-4ea1-ba88-1b5959d352f8",
   "metadata": {},
   "source": [
    "A: Because then, users wouldn't learn!\n",
    "\n",
    "Unfortunately, the warning above can only be emitted for relatively simple cases.\n",
    "\n",
    "Educating users > doing things for them but only in some cases"
   ]
  },
  {
   "cell_type": "markdown",
   "id": "d7d4664e-02d5-4c01-9503-2713896c0041",
   "metadata": {},
   "source": [
    "## What more can Polars do for me?"
   ]
  },
  {
   "cell_type": "markdown",
   "id": "1e5e6ac1-ef72-48e5-8f9b-411e79a579e6",
   "metadata": {},
   "source": [
    "Reach out to me on LinkedIn: https://www.linkedin.com/in/marcogorelli/\n",
    "\n",
    "I post Polars tips once every whenever I feel like it\n",
    "\n",
    "And also offer **Polars corporate training**"
   ]
  },
  {
   "cell_type": "code",
   "execution_count": null,
   "id": "0bfa0baa-a221-4359-af73-2d79160affd6",
   "metadata": {},
   "outputs": [],
   "source": []
  }
 ],
 "metadata": {
  "kernelspec": {
   "display_name": "Python 3 (ipykernel)",
   "language": "python",
   "name": "python3"
  },
  "language_info": {
   "codemirror_mode": {
    "name": "ipython",
    "version": 3
   },
   "file_extension": ".py",
   "mimetype": "text/x-python",
   "name": "python",
   "nbconvert_exporter": "python",
   "pygments_lexer": "ipython3",
   "version": "3.10.12"
  }
 },
 "nbformat": 4,
 "nbformat_minor": 5
}
