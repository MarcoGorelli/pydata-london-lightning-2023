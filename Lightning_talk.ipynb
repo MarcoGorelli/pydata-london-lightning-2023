{
 "cells": [
  {
   "cell_type": "markdown",
   "id": "51b786b0-7ac2-4029-801c-204a7948b1c7",
   "metadata": {},
   "source": [
    "# Polars' craziest* feature\n",
    "\n",
    "*debatable\n",
    "\n",
    "![](logo.png)\n",
    "\n",
    "## With: Marco Gorelli (Quansight Labs, volunteer maintainer Polars)"
   ]
  },
  {
   "cell_type": "markdown",
   "id": "7b76ff48-4dde-469b-955b-1e4aadfd8353",
   "metadata": {},
   "source": [
    "## Wait, what's Polars?\n",
    "\n",
    "- DataFrame library\n",
    "- Written in Rust\n",
    "- `pip install polars` is all you need!\n",
    "- Blazingly fast!"
   ]
  },
  {
   "cell_type": "markdown",
   "id": "22006418-5959-475c-83cb-4243f60a68ba",
   "metadata": {},
   "source": [
    "![](duckdb_benchmark.png)"
   ]
  },
  {
   "cell_type": "markdown",
   "id": "e727968d-9b7c-4e5a-98d1-73a06a9dc5eb",
   "metadata": {},
   "source": [
    "## Right then, let's try it!"
   ]
  },
  {
   "cell_type": "code",
   "execution_count": 5,
   "id": "1d64cc47-6ab9-4763-b4d4-40c5a109b61f",
   "metadata": {},
   "outputs": [
    {
     "data": {
      "text/html": [
       "<div><style>\n",
       ".dataframe > thead > tr > th,\n",
       ".dataframe > tbody > tr > td {\n",
       "  text-align: right;\n",
       "  white-space: pre-wrap;\n",
       "}\n",
       "</style>\n",
       "<small>shape: (5, 1)</small><table border=\"1\" class=\"dataframe\"><thead><tr><th>x</th></tr><tr><td>f64</td></tr></thead><tbody><tr><td>1.850064</td></tr><tr><td>1.55629</td></tr><tr><td>-0.740405</td></tr><tr><td>0.079336</td></tr><tr><td>-1.07925</td></tr></tbody></table></div>"
      ],
      "text/plain": [
       "shape: (5, 1)\n",
       "┌───────────┐\n",
       "│ x         │\n",
       "│ ---       │\n",
       "│ f64       │\n",
       "╞═══════════╡\n",
       "│ 1.850064  │\n",
       "│ 1.55629   │\n",
       "│ -0.740405 │\n",
       "│ 0.079336  │\n",
       "│ -1.07925  │\n",
       "└───────────┘"
      ]
     },
     "execution_count": 5,
     "metadata": {},
     "output_type": "execute_result"
    }
   ],
   "source": [
    "import polars as pl\n",
    "import numpy as np\n",
    "df = pl.DataFrame({'x': np.random.randn(50_000_000)})\n",
    "df.head()"
   ]
  },
  {
   "cell_type": "code",
   "execution_count": 6,
   "id": "87f3d74f-55eb-4209-b89b-b3ecbd254516",
   "metadata": {},
   "outputs": [
    {
     "name": "stderr",
     "output_type": "stream",
     "text": [
      "<magic-timeit>:2: PolarsInefficientMapWarning: \n",
      "Expr.map_elements is significantly slower than the native expressions API.\n",
      "Only use if you absolutely CANNOT implement your logic otherwise.\n",
      "In this case, you can replace your `map_elements` with the following:\n",
      "  - pl.col(\"x\").map_elements(lambda x: ...)\n",
      "  + pl.col(\"x\") ** 2\n",
      "\n",
      "<magic-timeit>:2: PolarsInefficientMapWarning: \n",
      "Expr.map_elements is significantly slower than the native expressions API.\n",
      "Only use if you absolutely CANNOT implement your logic otherwise.\n",
      "In this case, you can replace your `map_elements` with the following:\n",
      "  - pl.col(\"x\").map_elements(lambda x: ...)\n",
      "  + pl.col(\"x\") ** 2\n",
      "\n",
      "<magic-timeit>:2: PolarsInefficientMapWarning: \n",
      "Expr.map_elements is significantly slower than the native expressions API.\n",
      "Only use if you absolutely CANNOT implement your logic otherwise.\n",
      "In this case, you can replace your `map_elements` with the following:\n",
      "  - pl.col(\"x\").map_elements(lambda x: ...)\n",
      "  + pl.col(\"x\") ** 2\n",
      "\n",
      "<magic-timeit>:2: PolarsInefficientMapWarning: \n",
      "Expr.map_elements is significantly slower than the native expressions API.\n",
      "Only use if you absolutely CANNOT implement your logic otherwise.\n",
      "In this case, you can replace your `map_elements` with the following:\n",
      "  - pl.col(\"x\").map_elements(lambda x: ...)\n",
      "  + pl.col(\"x\") ** 2\n",
      "\n",
      "<magic-timeit>:2: PolarsInefficientMapWarning: \n",
      "Expr.map_elements is significantly slower than the native expressions API.\n",
      "Only use if you absolutely CANNOT implement your logic otherwise.\n",
      "In this case, you can replace your `map_elements` with the following:\n",
      "  - pl.col(\"x\").map_elements(lambda x: ...)\n",
      "  + pl.col(\"x\") ** 2\n",
      "\n",
      "<magic-timeit>:2: PolarsInefficientMapWarning: \n",
      "Expr.map_elements is significantly slower than the native expressions API.\n",
      "Only use if you absolutely CANNOT implement your logic otherwise.\n",
      "In this case, you can replace your `map_elements` with the following:\n",
      "  - pl.col(\"x\").map_elements(lambda x: ...)\n",
      "  + pl.col(\"x\") ** 2\n",
      "\n",
      "<magic-timeit>:2: PolarsInefficientMapWarning: \n",
      "Expr.map_elements is significantly slower than the native expressions API.\n",
      "Only use if you absolutely CANNOT implement your logic otherwise.\n",
      "In this case, you can replace your `map_elements` with the following:\n",
      "  - pl.col(\"x\").map_elements(lambda x: ...)\n",
      "  + pl.col(\"x\") ** 2\n",
      "\n",
      "<magic-timeit>:2: PolarsInefficientMapWarning: \n",
      "Expr.map_elements is significantly slower than the native expressions API.\n",
      "Only use if you absolutely CANNOT implement your logic otherwise.\n",
      "In this case, you can replace your `map_elements` with the following:\n",
      "  - pl.col(\"x\").map_elements(lambda x: ...)\n",
      "  + pl.col(\"x\") ** 2\n",
      "\n",
      "<magic-timeit>:2: PolarsInefficientMapWarning: \n",
      "Expr.map_elements is significantly slower than the native expressions API.\n",
      "Only use if you absolutely CANNOT implement your logic otherwise.\n",
      "In this case, you can replace your `map_elements` with the following:\n",
      "  - pl.col(\"x\").map_elements(lambda x: ...)\n",
      "  + pl.col(\"x\") ** 2\n",
      "\n",
      "<magic-timeit>:2: PolarsInefficientMapWarning: \n",
      "Expr.map_elements is significantly slower than the native expressions API.\n",
      "Only use if you absolutely CANNOT implement your logic otherwise.\n",
      "In this case, you can replace your `map_elements` with the following:\n",
      "  - pl.col(\"x\").map_elements(lambda x: ...)\n",
      "  + pl.col(\"x\") ** 2\n",
      "\n",
      "<magic-timeit>:2: PolarsInefficientMapWarning: \n",
      "Expr.map_elements is significantly slower than the native expressions API.\n",
      "Only use if you absolutely CANNOT implement your logic otherwise.\n",
      "In this case, you can replace your `map_elements` with the following:\n",
      "  - pl.col(\"x\").map_elements(lambda x: ...)\n",
      "  + pl.col(\"x\") ** 2\n",
      "\n",
      "<magic-timeit>:2: PolarsInefficientMapWarning: \n",
      "Expr.map_elements is significantly slower than the native expressions API.\n",
      "Only use if you absolutely CANNOT implement your logic otherwise.\n",
      "In this case, you can replace your `map_elements` with the following:\n",
      "  - pl.col(\"x\").map_elements(lambda x: ...)\n",
      "  + pl.col(\"x\") ** 2\n",
      "\n",
      "<magic-timeit>:2: PolarsInefficientMapWarning: \n",
      "Expr.map_elements is significantly slower than the native expressions API.\n",
      "Only use if you absolutely CANNOT implement your logic otherwise.\n",
      "In this case, you can replace your `map_elements` with the following:\n",
      "  - pl.col(\"x\").map_elements(lambda x: ...)\n",
      "  + pl.col(\"x\") ** 2\n",
      "\n",
      "<magic-timeit>:2: PolarsInefficientMapWarning: \n",
      "Expr.map_elements is significantly slower than the native expressions API.\n",
      "Only use if you absolutely CANNOT implement your logic otherwise.\n",
      "In this case, you can replace your `map_elements` with the following:\n",
      "  - pl.col(\"x\").map_elements(lambda x: ...)\n",
      "  + pl.col(\"x\") ** 2\n",
      "\n",
      "<magic-timeit>:2: PolarsInefficientMapWarning: \n",
      "Expr.map_elements is significantly slower than the native expressions API.\n",
      "Only use if you absolutely CANNOT implement your logic otherwise.\n",
      "In this case, you can replace your `map_elements` with the following:\n",
      "  - pl.col(\"x\").map_elements(lambda x: ...)\n",
      "  + pl.col(\"x\") ** 2\n",
      "\n",
      "<magic-timeit>:2: PolarsInefficientMapWarning: \n",
      "Expr.map_elements is significantly slower than the native expressions API.\n",
      "Only use if you absolutely CANNOT implement your logic otherwise.\n",
      "In this case, you can replace your `map_elements` with the following:\n",
      "  - pl.col(\"x\").map_elements(lambda x: ...)\n",
      "  + pl.col(\"x\") ** 2\n",
      "\n",
      "<magic-timeit>:2: PolarsInefficientMapWarning: \n",
      "Expr.map_elements is significantly slower than the native expressions API.\n",
      "Only use if you absolutely CANNOT implement your logic otherwise.\n",
      "In this case, you can replace your `map_elements` with the following:\n",
      "  - pl.col(\"x\").map_elements(lambda x: ...)\n",
      "  + pl.col(\"x\") ** 2\n",
      "\n",
      "thread '<unnamed>' panicked at src/map/series.rs:219:19:\n",
      "python function failed KeyboardInterrupt: \n",
      "note: run with `RUST_BACKTRACE=1` environment variable to display a backtrace\n",
      "--- PyO3 is resuming a panic after fetching a PanicException from Python. ---\n",
      "Python stack trace below:\n"
     ]
    },
    {
     "ename": "PanicException",
     "evalue": "python function failed KeyboardInterrupt: ",
     "output_type": "error",
     "traceback": [
      "\u001b[0;31m---------------------------------------------------------------------------\u001b[0m",
      "\u001b[0;31mPanicException\u001b[0m                            Traceback (most recent call last)",
      "File \u001b[0;32m~/tmp/.venv/lib/python3.10/site-packages/polars/expr/expr.py:3959\u001b[0m, in \u001b[0;36mExpr.map_elements.<locals>.wrap_f\u001b[0;34m(x)\u001b[0m\n\u001b[1;32m   3957\u001b[0m \u001b[38;5;28;01mwith\u001b[39;00m warnings\u001b[38;5;241m.\u001b[39mcatch_warnings():\n\u001b[1;32m   3958\u001b[0m     warnings\u001b[38;5;241m.\u001b[39msimplefilter(\u001b[38;5;124m\"\u001b[39m\u001b[38;5;124mignore\u001b[39m\u001b[38;5;124m\"\u001b[39m, PolarsInefficientMapWarning)\n\u001b[0;32m-> 3959\u001b[0m     \u001b[38;5;28;01mreturn\u001b[39;00m \u001b[43mx\u001b[49m\u001b[38;5;241;43m.\u001b[39;49m\u001b[43mmap_elements\u001b[49m\u001b[43m(\u001b[49m\n\u001b[1;32m   3960\u001b[0m \u001b[43m        \u001b[49m\u001b[43mfunction\u001b[49m\u001b[43m,\u001b[49m\u001b[43m \u001b[49m\u001b[43mreturn_dtype\u001b[49m\u001b[38;5;241;43m=\u001b[39;49m\u001b[43mreturn_dtype\u001b[49m\u001b[43m,\u001b[49m\u001b[43m \u001b[49m\u001b[43mskip_nulls\u001b[49m\u001b[38;5;241;43m=\u001b[39;49m\u001b[43mskip_nulls\u001b[49m\n\u001b[1;32m   3961\u001b[0m \u001b[43m    \u001b[49m\u001b[43m)\u001b[49m\n",
      "File \u001b[0;32m~/tmp/.venv/lib/python3.10/site-packages/polars/series/series.py:5028\u001b[0m, in \u001b[0;36mSeries.map_elements\u001b[0;34m(self, function, return_dtype, skip_nulls)\u001b[0m\n\u001b[1;32m   5024\u001b[0m     pl_return_dtype \u001b[38;5;241m=\u001b[39m py_type_to_dtype(return_dtype)\n\u001b[1;32m   5026\u001b[0m warn_on_inefficient_map(function, columns\u001b[38;5;241m=\u001b[39m[\u001b[38;5;28mself\u001b[39m\u001b[38;5;241m.\u001b[39mname], map_target\u001b[38;5;241m=\u001b[39m\u001b[38;5;124m\"\u001b[39m\u001b[38;5;124mseries\u001b[39m\u001b[38;5;124m\"\u001b[39m)\n\u001b[1;32m   5027\u001b[0m \u001b[38;5;28;01mreturn\u001b[39;00m \u001b[38;5;28mself\u001b[39m\u001b[38;5;241m.\u001b[39m_from_pyseries(\n\u001b[0;32m-> 5028\u001b[0m     \u001b[38;5;28;43mself\u001b[39;49m\u001b[38;5;241;43m.\u001b[39;49m\u001b[43m_s\u001b[49m\u001b[38;5;241;43m.\u001b[39;49m\u001b[43mapply_lambda\u001b[49m\u001b[43m(\u001b[49m\u001b[43mfunction\u001b[49m\u001b[43m,\u001b[49m\u001b[43m \u001b[49m\u001b[43mpl_return_dtype\u001b[49m\u001b[43m,\u001b[49m\u001b[43m \u001b[49m\u001b[43mskip_nulls\u001b[49m\u001b[43m)\u001b[49m\n\u001b[1;32m   5029\u001b[0m )\n",
      "\u001b[0;31mPanicException\u001b[0m: python function failed KeyboardInterrupt: "
     ]
    },
    {
     "name": "stderr",
     "output_type": "stream",
     "text": [
      "\n",
      "KeyboardInterrupt\n",
      "\n"
     ]
    }
   ],
   "source": [
    "%%time\n",
    "result = df.with_columns(\n",
    "    x_squared = pl.col.x.map_elements(lambda x: x**2),\n",
    ")\n",
    "result.head()"
   ]
  },
  {
   "cell_type": "code",
   "execution_count": 3,
   "id": "ab039b08-b60d-4960-aad3-4a39b2adf2e4",
   "metadata": {},
   "outputs": [
    {
     "name": "stdout",
     "output_type": "stream",
     "text": [
      "CPU times: user 74.2 ms, sys: 21.4 ms, total: 95.6 ms\n",
      "Wall time: 92.6 ms\n"
     ]
    },
    {
     "data": {
      "text/html": [
       "<div><style>\n",
       ".dataframe > thead > tr > th,\n",
       ".dataframe > tbody > tr > td {\n",
       "  text-align: right;\n",
       "  white-space: pre-wrap;\n",
       "}\n",
       "</style>\n",
       "<small>shape: (5, 2)</small><table border=\"1\" class=\"dataframe\"><thead><tr><th>x</th><th>x_squared</th></tr><tr><td>f64</td><td>f64</td></tr></thead><tbody><tr><td>0.214714</td><td>0.046102</td></tr><tr><td>0.534835</td><td>0.286048</td></tr><tr><td>0.212716</td><td>0.045248</td></tr><tr><td>-1.176031</td><td>1.383048</td></tr><tr><td>-1.412341</td><td>1.994708</td></tr></tbody></table></div>"
      ],
      "text/plain": [
       "shape: (5, 2)\n",
       "┌───────────┬───────────┐\n",
       "│ x         ┆ x_squared │\n",
       "│ ---       ┆ ---       │\n",
       "│ f64       ┆ f64       │\n",
       "╞═══════════╪═══════════╡\n",
       "│ 0.214714  ┆ 0.046102  │\n",
       "│ 0.534835  ┆ 0.286048  │\n",
       "│ 0.212716  ┆ 0.045248  │\n",
       "│ -1.176031 ┆ 1.383048  │\n",
       "│ -1.412341 ┆ 1.994708  │\n",
       "└───────────┴───────────┘"
      ]
     },
     "execution_count": 3,
     "metadata": {},
     "output_type": "execute_result"
    }
   ],
   "source": [
    "%%time\n",
    "result = df.with_columns(\n",
    "    x_squared = pl.col(\"x\") ** 2\n",
    ")\n",
    "result.head()"
   ]
  },
  {
   "cell_type": "markdown",
   "id": "4e4c9ea9-1c78-4b45-8c95-c975a69ec3dc",
   "metadata": {},
   "source": [
    "We got a huge performance increase for free!"
   ]
  },
  {
   "cell_type": "markdown",
   "id": "3a82a130-d78e-4ddf-b86f-891847b2de9b",
   "metadata": {},
   "source": [
    "## How does this work?"
   ]
  },
  {
   "cell_type": "markdown",
   "id": "7b09b79b-59c5-4465-a06d-4955c5af123d",
   "metadata": {},
   "source": [
    "### 1. disassemble function into bytecode:"
   ]
  },
  {
   "cell_type": "code",
   "execution_count": 4,
   "id": "5312795e-7216-4dec-9f57-a77ff8dc5289",
   "metadata": {},
   "outputs": [
    {
     "data": {
      "text/plain": [
       "[Instruction(opname='LOAD_FAST', opcode=124, arg=0, argval='x', argrepr='x', offset=0, starts_line=3, is_jump_target=False),\n",
       " Instruction(opname='LOAD_CONST', opcode=100, arg=1, argval=2, argrepr='2', offset=2, starts_line=None, is_jump_target=False),\n",
       " Instruction(opname='BINARY_POWER', opcode=19, arg=None, argval=None, argrepr='', offset=4, starts_line=None, is_jump_target=False),\n",
       " Instruction(opname='RETURN_VALUE', opcode=83, arg=None, argval=None, argrepr='', offset=6, starts_line=None, is_jump_target=False)]"
      ]
     },
     "execution_count": 4,
     "metadata": {},
     "output_type": "execute_result"
    }
   ],
   "source": [
    "import dis\n",
    "\n",
    "list(dis.get_instructions(lambda x: x**2))"
   ]
  },
  {
   "cell_type": "markdown",
   "id": "0dc7458f-2463-4b2a-811a-d1081e7e9b0f",
   "metadata": {},
   "source": [
    "### 2. parse the bytecode to figure out what the user wrote\n",
    "\n",
    "`x`, `2`, `\"binary power\"` ==> `x**2`\n",
    "\n",
    "### 3. educate the user on how they could have written their code more efficiently!\n",
    "\n",
    "```diff\n",
    "- pl.col(\"x\").map_elements(lambda x: ...)\n",
    "+ pl.col(\"x\") ** 2\n",
    "```"
   ]
  },
  {
   "cell_type": "markdown",
   "id": "47f36dbb-960b-4ad8-b9ab-0a923b2247b7",
   "metadata": {},
   "source": [
    "## But...why? Why not just do it the fast way for users?"
   ]
  },
  {
   "cell_type": "markdown",
   "id": "64959eea-03ca-4ea1-ba88-1b5959d352f8",
   "metadata": {},
   "source": [
    "A: Because then, users wouldn't learn!\n",
    "\n",
    "Unfortunately, the warning above can only be emitted for relatively simple cases.\n",
    "\n",
    "Educating users > doing things for them but only in some cases"
   ]
  },
  {
   "cell_type": "markdown",
   "id": "d7d4664e-02d5-4c01-9503-2713896c0041",
   "metadata": {},
   "source": [
    "## What more can Polars do for me?"
   ]
  },
  {
   "cell_type": "markdown",
   "id": "1e5e6ac1-ef72-48e5-8f9b-411e79a579e6",
   "metadata": {},
   "source": [
    "Reach out to me on LinkedIn: https://www.linkedin.com/in/marcogorelli/\n",
    "\n",
    "I post Polars tips once every whenever I feel like it\n",
    "\n",
    "And also offer **Polars corporate training**"
   ]
  },
  {
   "cell_type": "code",
   "execution_count": null,
   "id": "0bfa0baa-a221-4359-af73-2d79160affd6",
   "metadata": {},
   "outputs": [],
   "source": []
  }
 ],
 "metadata": {
  "kernelspec": {
   "display_name": "Python 3 (ipykernel)",
   "language": "python",
   "name": "python3"
  },
  "language_info": {
   "codemirror_mode": {
    "name": "ipython",
    "version": 3
   },
   "file_extension": ".py",
   "mimetype": "text/x-python",
   "name": "python",
   "nbconvert_exporter": "python",
   "pygments_lexer": "ipython3",
   "version": "3.10.12"
  }
 },
 "nbformat": 4,
 "nbformat_minor": 5
}
