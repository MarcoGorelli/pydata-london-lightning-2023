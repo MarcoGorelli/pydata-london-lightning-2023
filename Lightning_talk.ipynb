{
 "cells": [
  {
   "cell_type": "markdown",
   "id": "51b786b0-7ac2-4029-801c-204a7948b1c7",
   "metadata": {},
   "source": [
    "# Polars' craziest* feature\n",
    "\n",
    "*debatable\n",
    "\n",
    "![](logo.png)\n",
    "\n",
    "## With: Marco Gorelli\n",
    "## (Quansight Labs, maintainer Polars & pandas)"
   ]
  },
  {
   "cell_type": "code",
   "execution_count": null,
   "id": "eba1db73-da4a-4002-8013-7a334d508879",
   "metadata": {},
   "outputs": [],
   "source": [
    "import polars as pl"
   ]
  },
  {
   "cell_type": "markdown",
   "id": "7b76ff48-4dde-469b-955b-1e4aadfd8353",
   "metadata": {},
   "source": [
    "## Wait, what's Polars?\n",
    "\n",
    "- DataFrame library\n",
    "- Written in Rust\n",
    "- `pip install polars` is all you need!\n",
    "- Blazingly fast!"
   ]
  },
  {
   "cell_type": "markdown",
   "id": "22006418-5959-475c-83cb-4243f60a68ba",
   "metadata": {},
   "source": [
    "![](duckdb_benchmark.png)"
   ]
  },
  {
   "cell_type": "markdown",
   "id": "e727968d-9b7c-4e5a-98d1-73a06a9dc5eb",
   "metadata": {},
   "source": [
    "## Right then, let's try it!\n",
    "\n",
    "I have a dataframe with 50 million rows, each of which has an id.\n",
    "\n",
    "I'd like to map:\n",
    "- 0 -> 'Regina'\n",
    "- 1 -> 'Karen'\n",
    "- 2 -> 'Gretchen'\n",
    "- 3 -> 'Cady'"
   ]
  },
  {
   "cell_type": "code",
   "execution_count": 1,
   "id": "1d64cc47-6ab9-4763-b4d4-40c5a109b61f",
   "metadata": {
    "scrolled": true
   },
   "outputs": [
    {
     "data": {
      "text/html": [
       "<div><style>\n",
       ".dataframe > thead > tr > th,\n",
       ".dataframe > tbody > tr > td {\n",
       "  text-align: right;\n",
       "  white-space: pre-wrap;\n",
       "}\n",
       "</style>\n",
       "<small>shape: (5, 1)</small><table border=\"1\" class=\"dataframe\"><thead><tr><th>id</th></tr><tr><td>i64</td></tr></thead><tbody><tr><td>1</td></tr><tr><td>3</td></tr><tr><td>2</td></tr><tr><td>2</td></tr><tr><td>1</td></tr></tbody></table></div>"
      ],
      "text/plain": [
       "shape: (5, 1)\n",
       "┌─────┐\n",
       "│ id  │\n",
       "│ --- │\n",
       "│ i64 │\n",
       "╞═════╡\n",
       "│ 1   │\n",
       "│ 3   │\n",
       "│ 2   │\n",
       "│ 2   │\n",
       "│ 1   │\n",
       "└─────┘"
      ]
     },
     "execution_count": 1,
     "metadata": {},
     "output_type": "execute_result"
    }
   ],
   "source": [
    "import polars as pl\n",
    "import numpy as np\n",
    "import random\n",
    "\n",
    "\n",
    "df = pl.DataFrame(\n",
    "    {'id': np.random.randint(0, 4, size=50_000_000)}\n",
    ")\n",
    "df.head()"
   ]
  },
  {
   "cell_type": "code",
   "execution_count": 3,
   "id": "87f3d74f-55eb-4209-b89b-b3ecbd254516",
   "metadata": {},
   "outputs": [
    {
     "ename": "NameError",
     "evalue": "name 'l' is not defined",
     "output_type": "error",
     "traceback": [
      "\u001b[0;31m---------------------------------------------------------------------------\u001b[0m",
      "\u001b[0;31mNameError\u001b[0m                                 Traceback (most recent call last)",
      "File \u001b[0;32m<timed exec>:9\u001b[0m\n",
      "\u001b[0;31mNameError\u001b[0m: name 'l' is not defined"
     ]
    }
   ],
   "source": [
    "%%time\n",
    "\n",
    "id_to_name = {\n",
    "    0: 'Regina',\n",
    "    1: 'Karen',\n",
    "    2: 'Gretchen',\n",
    "    3: 'Cady',\n",
    "}\n",
    "\n",
    "result = df.with_columns(\n",
    "    name = pl.col(\"id\").map_elements(lambda x: id_to_name[x])\n",
    ")\n",
    "result.head()"
   ]
  },
  {
   "cell_type": "markdown",
   "id": "4e4c9ea9-1c78-4b45-8c95-c975a69ec3dc",
   "metadata": {},
   "source": [
    "We got a > 10x performance increase for free!"
   ]
  },
  {
   "cell_type": "markdown",
   "id": "3a82a130-d78e-4ddf-b86f-891847b2de9b",
   "metadata": {},
   "source": [
    "## How does this work?"
   ]
  },
  {
   "cell_type": "markdown",
   "id": "7b09b79b-59c5-4465-a06d-4955c5af123d",
   "metadata": {},
   "source": [
    "### 1. disassemble function into bytecode:"
   ]
  },
  {
   "cell_type": "code",
   "execution_count": 5,
   "id": "5312795e-7216-4dec-9f57-a77ff8dc5289",
   "metadata": {},
   "outputs": [
    {
     "data": {
      "text/plain": [
       "[Instruction(opname='LOAD_GLOBAL', opcode=116, arg=0, argval='id_to_name', argrepr='id_to_name', offset=0, starts_line=3, is_jump_target=False),\n",
       " Instruction(opname='LOAD_FAST', opcode=124, arg=0, argval='x', argrepr='x', offset=2, starts_line=None, is_jump_target=False),\n",
       " Instruction(opname='BINARY_SUBSCR', opcode=25, arg=None, argval=None, argrepr='', offset=4, starts_line=None, is_jump_target=False),\n",
       " Instruction(opname='RETURN_VALUE', opcode=83, arg=None, argval=None, argrepr='', offset=6, starts_line=None, is_jump_target=False)]"
      ]
     },
     "execution_count": 5,
     "metadata": {},
     "output_type": "execute_result"
    }
   ],
   "source": [
    "import dis\n",
    "\n",
    "list(dis.get_instructions(lambda x: id_to_name[x]))"
   ]
  },
  {
   "cell_type": "markdown",
   "id": "0dc7458f-2463-4b2a-811a-d1081e7e9b0f",
   "metadata": {},
   "source": [
    "### 2. parse the bytecode to figure out what the user wrote\n",
    "\n",
    "`id_to_name`, `x`, `\"binary_subscr\"` ==> `id_to_name[x]`\n",
    "\n",
    "### 3. educate the user on how they could have written their code more efficiently!\n",
    "\n",
    "```diff\n",
    "- pl.col(\"id\").map_elements(lambda x: ...)\n",
    "+ pl.col(\"id\").map_dict(id_to_name)\n",
    "```"
   ]
  },
  {
   "cell_type": "markdown",
   "id": "47f36dbb-960b-4ad8-b9ab-0a923b2247b7",
   "metadata": {},
   "source": [
    "## But...why? Why not just do it the fast way for users?"
   ]
  },
  {
   "cell_type": "markdown",
   "id": "64959eea-03ca-4ea1-ba88-1b5959d352f8",
   "metadata": {},
   "source": [
    "Answer: To teach you a lesson!"
   ]
  },
  {
   "cell_type": "markdown",
   "id": "d7d4664e-02d5-4c01-9503-2713896c0041",
   "metadata": {},
   "source": [
    "# That's Polars' craziest* feature! Thanks all!\n",
    "\n",
    "*debatable\n",
    "\n",
    "## What more can Polars do for me?"
   ]
  },
  {
   "cell_type": "markdown",
   "id": "1e5e6ac1-ef72-48e5-8f9b-411e79a579e6",
   "metadata": {},
   "source": [
    "Reach out to me on LinkedIn: https://www.linkedin.com/in/marcogorelli/\n",
    "\n",
    "I post Polars tips once every whenever I feel like it\n",
    "\n",
    "And also offer **Polars corporate training**\n",
    "\n",
    "![](learning.png)"
   ]
  },
  {
   "cell_type": "code",
   "execution_count": null,
   "id": "0bfa0baa-a221-4359-af73-2d79160affd6",
   "metadata": {},
   "outputs": [],
   "source": []
  }
 ],
 "metadata": {
  "kernelspec": {
   "display_name": "Python 3 (ipykernel)",
   "language": "python",
   "name": "python3"
  },
  "language_info": {
   "codemirror_mode": {
    "name": "ipython",
    "version": 3
   },
   "file_extension": ".py",
   "mimetype": "text/x-python",
   "name": "python",
   "nbconvert_exporter": "python",
   "pygments_lexer": "ipython3",
   "version": "3.10.12"
  }
 },
 "nbformat": 4,
 "nbformat_minor": 5
}
