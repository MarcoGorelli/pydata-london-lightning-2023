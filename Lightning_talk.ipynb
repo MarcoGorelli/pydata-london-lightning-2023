{
 "cells": [
  {
   "cell_type": "markdown",
   "id": "51b786b0-7ac2-4029-801c-204a7948b1c7",
   "metadata": {},
   "source": [
    "# Polars' craziest* feature\n",
    "\n",
    "*debatable\n",
    "\n",
    "## With: Marco Gorelli (Quansight Labs, volunteer maintainer Polars)"
   ]
  },
  {
   "cell_type": "code",
   "execution_count": 1,
   "id": "eba1db73-da4a-4002-8013-7a334d508879",
   "metadata": {},
   "outputs": [],
   "source": [
    "import polars as pl"
   ]
  },
  {
   "cell_type": "markdown",
   "id": "7b76ff48-4dde-469b-955b-1e4aadfd8353",
   "metadata": {},
   "source": [
    "## Wait, what's Polars?\n",
    "\n",
    "- DataFrame library\n",
    "- Written in Rust, with Python bindings\n",
    "- Blazingly fast!\n",
    "- Syntax more like PySpark than pandas"
   ]
  },
  {
   "cell_type": "markdown",
   "id": "22006418-5959-475c-83cb-4243f60a68ba",
   "metadata": {},
   "source": [
    "## \"I've heard it's super-fast\"\n",
    "\n",
    "![](duckdb_benchmark.png)\n",
    "\n",
    "![](tpch.png)"
   ]
  },
  {
   "cell_type": "markdown",
   "id": "e727968d-9b7c-4e5a-98d1-73a06a9dc5eb",
   "metadata": {},
   "source": [
    "## Right then, let's try it!"
   ]
  },
  {
   "cell_type": "code",
   "execution_count": 2,
   "id": "1d64cc47-6ab9-4763-b4d4-40c5a109b61f",
   "metadata": {},
   "outputs": [
    {
     "data": {
      "text/html": [
       "<div><style>\n",
       ".dataframe > thead > tr > th,\n",
       ".dataframe > tbody > tr > td {\n",
       "  text-align: right;\n",
       "  white-space: pre-wrap;\n",
       "}\n",
       "</style>\n",
       "<small>shape: (5, 1)</small><table border=\"1\" class=\"dataframe\"><thead><tr><th>x</th></tr><tr><td>f64</td></tr></thead><tbody><tr><td>-0.122028</td></tr><tr><td>0.767915</td></tr><tr><td>-0.283176</td></tr><tr><td>-0.418662</td></tr><tr><td>-0.14506</td></tr></tbody></table></div>"
      ],
      "text/plain": [
       "shape: (5, 1)\n",
       "┌───────────┐\n",
       "│ x         │\n",
       "│ ---       │\n",
       "│ f64       │\n",
       "╞═══════════╡\n",
       "│ -0.122028 │\n",
       "│ 0.767915  │\n",
       "│ -0.283176 │\n",
       "│ -0.418662 │\n",
       "│ -0.14506  │\n",
       "└───────────┘"
      ]
     },
     "execution_count": 2,
     "metadata": {},
     "output_type": "execute_result"
    }
   ],
   "source": [
    "import numpy as np\n",
    "df = pl.DataFrame({'x': np.random.randn(50_000_000)})\n",
    "df.head()"
   ]
  },
  {
   "cell_type": "code",
   "execution_count": 3,
   "id": "87f3d74f-55eb-4209-b89b-b3ecbd254516",
   "metadata": {},
   "outputs": [
    {
     "name": "stderr",
     "output_type": "stream",
     "text": [
      "<timed eval>:2: PolarsInefficientMapWarning: \n",
      "Expr.map_elements is significantly slower than the native expressions API.\n",
      "Only use if you absolutely CANNOT implement your logic otherwise.\n",
      "In this case, you can replace your `map_elements` with the following:\n",
      "  - pl.col(\"x\").map_elements(lambda x: ...)\n",
      "  + pl.col(\"x\") ** 2\n",
      "\n",
      "<timed eval>:3: PolarsInefficientMapWarning: \n",
      "Expr.map_elements is significantly slower than the native expressions API.\n",
      "Only use if you absolutely CANNOT implement your logic otherwise.\n",
      "In this case, you can replace your `map_elements` with the following:\n",
      "  - pl.col(\"x\").map_elements(lambda x: ...)\n",
      "  + pl.col(\"x\") ** 3\n",
      "\n"
     ]
    },
    {
     "name": "stdout",
     "output_type": "stream",
     "text": [
      "CPU times: user 22 s, sys: 9.65 s, total: 31.6 s\n",
      "Wall time: 32.7 s\n"
     ]
    },
    {
     "data": {
      "text/html": [
       "<div><style>\n",
       ".dataframe > thead > tr > th,\n",
       ".dataframe > tbody > tr > td {\n",
       "  text-align: right;\n",
       "  white-space: pre-wrap;\n",
       "}\n",
       "</style>\n",
       "<small>shape: (50_000_000, 3)</small><table border=\"1\" class=\"dataframe\"><thead><tr><th>x</th><th>x_squared</th><th>x_cubed</th></tr><tr><td>f64</td><td>f64</td><td>f64</td></tr></thead><tbody><tr><td>-0.122028</td><td>0.014891</td><td>-0.001817</td></tr><tr><td>0.767915</td><td>0.589693</td><td>0.452834</td></tr><tr><td>-0.283176</td><td>0.080189</td><td>-0.022708</td></tr><tr><td>-0.418662</td><td>0.175278</td><td>-0.073382</td></tr><tr><td>-0.14506</td><td>0.021042</td><td>-0.003052</td></tr><tr><td>-1.456014</td><td>2.119978</td><td>-3.086718</td></tr><tr><td>-0.192288</td><td>0.036974</td><td>-0.00711</td></tr><tr><td>1.665041</td><td>2.772362</td><td>4.616097</td></tr><tr><td>1.413519</td><td>1.998036</td><td>2.824263</td></tr><tr><td>-0.19646</td><td>0.038596</td><td>-0.007583</td></tr><tr><td>0.260871</td><td>0.068054</td><td>0.017753</td></tr><tr><td>-1.153357</td><td>1.330233</td><td>-1.534234</td></tr><tr><td>&hellip;</td><td>&hellip;</td><td>&hellip;</td></tr><tr><td>0.37206</td><td>0.138429</td><td>0.051504</td></tr><tr><td>0.528471</td><td>0.279282</td><td>0.147592</td></tr><tr><td>-0.30612</td><td>0.09371</td><td>-0.028686</td></tr><tr><td>0.57257</td><td>0.327836</td><td>0.187709</td></tr><tr><td>0.937176</td><td>0.878298</td><td>0.82312</td></tr><tr><td>0.008264</td><td>0.000068</td><td>5.6446e-7</td></tr><tr><td>-1.105665</td><td>1.222494</td><td>-1.351668</td></tr><tr><td>-0.414154</td><td>0.171524</td><td>-0.071037</td></tr><tr><td>0.108423</td><td>0.011756</td><td>0.001275</td></tr><tr><td>-1.153193</td><td>1.329853</td><td>-1.533577</td></tr><tr><td>-0.892175</td><td>0.795977</td><td>-0.710151</td></tr><tr><td>-0.1009</td><td>0.010181</td><td>-0.001027</td></tr></tbody></table></div>"
      ],
      "text/plain": [
       "shape: (50_000_000, 3)\n",
       "┌───────────┬───────────┬───────────┐\n",
       "│ x         ┆ x_squared ┆ x_cubed   │\n",
       "│ ---       ┆ ---       ┆ ---       │\n",
       "│ f64       ┆ f64       ┆ f64       │\n",
       "╞═══════════╪═══════════╪═══════════╡\n",
       "│ -0.122028 ┆ 0.014891  ┆ -0.001817 │\n",
       "│ 0.767915  ┆ 0.589693  ┆ 0.452834  │\n",
       "│ -0.283176 ┆ 0.080189  ┆ -0.022708 │\n",
       "│ -0.418662 ┆ 0.175278  ┆ -0.073382 │\n",
       "│ …         ┆ …         ┆ …         │\n",
       "│ 0.108423  ┆ 0.011756  ┆ 0.001275  │\n",
       "│ -1.153193 ┆ 1.329853  ┆ -1.533577 │\n",
       "│ -0.892175 ┆ 0.795977  ┆ -0.710151 │\n",
       "│ -0.1009   ┆ 0.010181  ┆ -0.001027 │\n",
       "└───────────┴───────────┴───────────┘"
      ]
     },
     "execution_count": 3,
     "metadata": {},
     "output_type": "execute_result"
    }
   ],
   "source": [
    "%%time\n",
    "result = df.with_columns(\n",
    "    x_squared = pl.col.x.map_elements(lambda x: x**2),\n",
    "    x_cubed = pl.col.x.map_elements(lambda x: x**3),\n",
    ")\n",
    "result.head()"
   ]
  },
  {
   "cell_type": "code",
   "execution_count": 7,
   "id": "ab039b08-b60d-4960-aad3-4a39b2adf2e4",
   "metadata": {},
   "outputs": [
    {
     "name": "stdout",
     "output_type": "stream",
     "text": [
      "CPU times: user 202 ms, sys: 142 ms, total: 345 ms\n",
      "Wall time: 221 ms\n"
     ]
    },
    {
     "data": {
      "text/html": [
       "<div><style>\n",
       ".dataframe > thead > tr > th,\n",
       ".dataframe > tbody > tr > td {\n",
       "  text-align: right;\n",
       "  white-space: pre-wrap;\n",
       "}\n",
       "</style>\n",
       "<small>shape: (5, 3)</small><table border=\"1\" class=\"dataframe\"><thead><tr><th>x</th><th>x_squared</th><th>x_cubed</th></tr><tr><td>f64</td><td>f64</td><td>f64</td></tr></thead><tbody><tr><td>-0.122028</td><td>0.014891</td><td>-0.001817</td></tr><tr><td>0.767915</td><td>0.589693</td><td>0.452834</td></tr><tr><td>-0.283176</td><td>0.080189</td><td>-0.022708</td></tr><tr><td>-0.418662</td><td>0.175278</td><td>-0.073382</td></tr><tr><td>-0.14506</td><td>0.021042</td><td>-0.003052</td></tr></tbody></table></div>"
      ],
      "text/plain": [
       "shape: (5, 3)\n",
       "┌───────────┬───────────┬───────────┐\n",
       "│ x         ┆ x_squared ┆ x_cubed   │\n",
       "│ ---       ┆ ---       ┆ ---       │\n",
       "│ f64       ┆ f64       ┆ f64       │\n",
       "╞═══════════╪═══════════╪═══════════╡\n",
       "│ -0.122028 ┆ 0.014891  ┆ -0.001817 │\n",
       "│ 0.767915  ┆ 0.589693  ┆ 0.452834  │\n",
       "│ -0.283176 ┆ 0.080189  ┆ -0.022708 │\n",
       "│ -0.418662 ┆ 0.175278  ┆ -0.073382 │\n",
       "│ -0.14506  ┆ 0.021042  ┆ -0.003052 │\n",
       "└───────────┴───────────┴───────────┘"
      ]
     },
     "execution_count": 7,
     "metadata": {},
     "output_type": "execute_result"
    }
   ],
   "source": [
    "%%time\n",
    "result = df.with_columns(\n",
    "    x_squared = pl.col(\"x\") ** 2,\n",
    "    x_cubed = pl.col(\"x\") ** 3,\n",
    ")\n",
    "result.head()"
   ]
  },
  {
   "cell_type": "markdown",
   "id": "4e4c9ea9-1c78-4b45-8c95-c975a69ec3dc",
   "metadata": {},
   "source": [
    "We got a ????x performance increase for free!"
   ]
  },
  {
   "cell_type": "markdown",
   "id": "3a82a130-d78e-4ddf-b86f-891847b2de9b",
   "metadata": {},
   "source": [
    "## How does this work?"
   ]
  },
  {
   "cell_type": "markdown",
   "id": "7b09b79b-59c5-4465-a06d-4955c5af123d",
   "metadata": {},
   "source": [
    "### 1. disassemble function into bytecode:"
   ]
  },
  {
   "cell_type": "code",
   "execution_count": 8,
   "id": "5312795e-7216-4dec-9f57-a77ff8dc5289",
   "metadata": {},
   "outputs": [
    {
     "data": {
      "text/plain": [
       "[Instruction(opname='LOAD_FAST', opcode=124, arg=0, argval='x', argrepr='x', offset=0, starts_line=3, is_jump_target=False),\n",
       " Instruction(opname='LOAD_CONST', opcode=100, arg=1, argval=2, argrepr='2', offset=2, starts_line=None, is_jump_target=False),\n",
       " Instruction(opname='BINARY_POWER', opcode=19, arg=None, argval=None, argrepr='', offset=4, starts_line=None, is_jump_target=False),\n",
       " Instruction(opname='RETURN_VALUE', opcode=83, arg=None, argval=None, argrepr='', offset=6, starts_line=None, is_jump_target=False)]"
      ]
     },
     "execution_count": 8,
     "metadata": {},
     "output_type": "execute_result"
    }
   ],
   "source": [
    "import dis\n",
    "\n",
    "list(dis.get_instructions(lambda x: x**2))"
   ]
  },
  {
   "cell_type": "markdown",
   "id": "0dc7458f-2463-4b2a-811a-d1081e7e9b0f",
   "metadata": {},
   "source": [
    "### 2. parse the bytecode to figure out what the user wrote\n",
    "\n",
    "`x`, `2`, `\"binary power\"` ==> `x**2`\n",
    "\n",
    "### 3. educate the user on how they could have written their code more efficiently!\n",
    "\n",
    "```diff\n",
    "- pl.col(\"x\").map_elements(lambda x: ...)\n",
    "+ pl.col(\"x\") ** 2\n",
    "```"
   ]
  },
  {
   "cell_type": "markdown",
   "id": "47f36dbb-960b-4ad8-b9ab-0a923b2247b7",
   "metadata": {},
   "source": [
    "## But...why? Why not just do it the fast way for users?"
   ]
  },
  {
   "cell_type": "markdown",
   "id": "64959eea-03ca-4ea1-ba88-1b5959d352f8",
   "metadata": {},
   "source": [
    "A: Because then, users wouldn't learn!\n",
    "\n",
    "Unfortunately, the warning above can only be emitted for relatively simple cases.\n",
    "\n",
    "Educating users > doing things for them but only in some cases"
   ]
  },
  {
   "cell_type": "markdown",
   "id": "d7d4664e-02d5-4c01-9503-2713896c0041",
   "metadata": {},
   "source": [
    "## What more can Polars do for me?"
   ]
  },
  {
   "cell_type": "markdown",
   "id": "1e5e6ac1-ef72-48e5-8f9b-411e79a579e6",
   "metadata": {},
   "source": [
    "Reach out to me on LinkedIn: https://www.linkedin.com/in/marcogorelli/\n",
    "\n",
    "I post Polars tips once every whenever I feel like it\n",
    "\n",
    "And also offer **Polars corporate training**"
   ]
  },
  {
   "cell_type": "code",
   "execution_count": null,
   "id": "0bfa0baa-a221-4359-af73-2d79160affd6",
   "metadata": {},
   "outputs": [],
   "source": []
  }
 ],
 "metadata": {
  "kernelspec": {
   "display_name": "Python 3 (ipykernel)",
   "language": "python",
   "name": "python3"
  },
  "language_info": {
   "codemirror_mode": {
    "name": "ipython",
    "version": 3
   },
   "file_extension": ".py",
   "mimetype": "text/x-python",
   "name": "python",
   "nbconvert_exporter": "python",
   "pygments_lexer": "ipython3",
   "version": "3.10.12"
  }
 },
 "nbformat": 4,
 "nbformat_minor": 5
}
